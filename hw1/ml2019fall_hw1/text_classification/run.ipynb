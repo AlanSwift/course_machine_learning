{
 "cells": [
  {
   "cell_type": "markdown",
   "metadata": {},
   "source": [
    "# Text Classification\n",
    "*Complete and hand in this completed worksheet (including its outputs and any supporting code outside of the worksheet) with your assignment submission. Please check the pdf file for more details.*\n",
    "\n",
    "In this exercise you will:\n",
    "    \n",
    "- implement a of spam classifier with **Naive Bayes method** for real world email messages\n",
    "- learn the **training and testing phase** for Naive Bayes classifier  \n",
    "- get an idea of the **precision-recall** tradeoff"
   ]
  },
  {
   "cell_type": "code",
   "execution_count": 1,
   "metadata": {},
   "outputs": [],
   "source": [
    "# some basic imports\n",
    "import numpy as np\n",
    "import matplotlib.pyplot as plt\n",
    "import scipy.sparse\n",
    "%matplotlib inline\n",
    "\n",
    "%load_ext autoreload\n",
    "%autoreload 2"
   ]
  },
  {
   "cell_type": "code",
   "execution_count": 10,
   "metadata": {},
   "outputs": [
    {
     "name": "stderr",
     "output_type": "stream",
     "text": [
      "/Users/Alan/anaconda3/lib/python3.6/site-packages/scipy/sparse/_index.py:118: SparseEfficiencyWarning: Changing the sparsity structure of a csr_matrix is expensive. lil_matrix is more efficient.\n",
      "  self._set_arrayXarray_sparse(i, j, x)\n"
     ]
    },
    {
     "name": "stdout",
     "output_type": "stream",
     "text": [
      "ok\n"
     ]
    }
   ],
   "source": [
    "# ham_train contains the occurrences of each word in ham emails. 1-by-N vector\n",
    "ham_train = np.loadtxt('ham_train.csv', delimiter=',')\n",
    "# spam_train contains the occurrences of each word in spam emails. 1-by-N vector\n",
    "spam_train = np.loadtxt('spam_train.csv', delimiter=',')\n",
    "\n",
    "# N is the size of vocabulary.\n",
    "N = ham_train.shape[0]\n",
    "# There 9034 ham emails and 3372 spam emails in the training samples\n",
    "num_ham_train = 9034\n",
    "num_spam_train = 3372\n",
    "# Do smoothing\n",
    "x = np.vstack([ham_train, spam_train]) + 1\n",
    "\n",
    "# ham_test contains the occurences of each word in each ham test email. P-by-N vector, with P is number of ham test emails.\n",
    "i,j,ham_test = np.loadtxt('ham_test.txt').T\n",
    "i = i.astype(np.int)\n",
    "j = j.astype(np.int)\n",
    "ham_test_tight = scipy.sparse.coo_matrix((ham_test, (i - 1, j - 1)))\n",
    "ham_test = scipy.sparse.csr_matrix((ham_test_tight.shape[0], ham_train.shape[0]))\n",
    "ham_test[:, 0:ham_test_tight.shape[1]] = ham_test_tight\n",
    "# spam_test contains the occurences of each word in each spam test email. Q-by-N vector, with Q is number of spam test emails.\n",
    "i,j,spam_test = np.loadtxt('spam_test.txt').T\n",
    "i = i.astype(np.int)\n",
    "j = j.astype(np.int)\n",
    "spam_test_tight = scipy.sparse.csr_matrix((spam_test, (i - 1, j - 1)))\n",
    "spam_test = scipy.sparse.csr_matrix((spam_test_tight.shape[0], spam_train.shape[0]))\n",
    "spam_test[:, 0:spam_test_tight.shape[1]] = spam_test_tight\n"
   ]
  },
  {
   "cell_type": "markdown",
   "metadata": {},
   "source": [
    "## Now let's implement a ham/spam email classifier. Please refer to the PDF file for details"
   ]
  },
  {
   "cell_type": "code",
   "execution_count": null,
   "metadata": {},
   "outputs": [
    {
     "name": "stdout",
     "output_type": "stream",
     "text": [
      "nbsp, 1325.1002358991152\n",
      "viagra, 1249.5763882571969\n",
      "pills, 1101.9615951389017\n",
      "cialis, 847.9268348888121\n",
      "voip, 837.6281283921868\n",
      "php, 768.9700850813518\n",
      "meds, 672.8488244461829\n",
      "computron, 652.2514114529324\n",
      "sex, 614.4894876319731\n",
      "width, 518.3682269968041\n"
     ]
    }
   ],
   "source": [
    "from likelihood import likelihood\n",
    "# TODO\n",
    "# Implement a ham/spam email classifier, and calculate the accuracy of your classifier\n",
    "\n",
    "# Hint: you can directly do matrix multiply between scipy.sparse.coo_matrix and numpy.array.\n",
    "# Specifically, you can use sparse_matrix * np_array to do this. Note that when you use \"*\" operator\n",
    "# between numpy array, this is typically an elementwise multiply.\n",
    "\n",
    "# begin answer\n",
    "# for a)\n",
    "import re\n",
    "lk = likelihood(x)\n",
    "r = np.zeros((N))\n",
    "for i in range(N):\n",
    "    r[i] = lk[1, i] / lk[0, i]\n",
    "idx = np.argsort(-r)\n",
    "with open(\"all_word_map.txt\", \"r\", encoding=\"utf-8\") as f:\n",
    "    content = f.read()\n",
    "lines = re.split(\"\\n\", content, flags=re.S|re.M)\n",
    "idx2word = {}\n",
    "word2idx = {}\n",
    "for l in lines:\n",
    "    l = l.strip()\n",
    "    if l.strip() == \"\":\n",
    "        continue\n",
    "    [word, ix] = re.split(\"\\t\", l)\n",
    "    idx2word[int(ix)-1] = word\n",
    "    word2idx[word] = int(ix) - 1\n",
    "for i in range(10):\n",
    "    ix = idx[i]\n",
    "    word = idx2word[ix]\n",
    "    score = r[ix]\n",
    "    print(\"{}, {}\".format(word, score))\n",
    "    \n",
    "# for b)\n",
    "# prior:\n",
    "[n_h, _] = list(ham_test.shape)\n",
    "[n_s, _] = list(spam_test.shape)\n",
    "lk0 = np.expand_dims(lk[0], axis=0)\n",
    "lk0 = np.repeat(lk0, n_h, axis=0)\n",
    "lk1 = np.expand_dims(lk[1], axis=0)\n",
    "lk1 = np.repeat(lk1, n_h, axis=0)\n",
    "ham_test_array = ham_test.toarray()\n",
    "ph = np.sum(np.log(lk0) * ham_test_array, axis=1) + np.log(n_h / (n_h + n_s))\n",
    "\n",
    "ps = np.sum(np.log(lk1) * ham_test_array, axis=1) + np.log(n_s / (n_h + n_s))\n",
    "\n",
    "msk = ph > ps\n",
    "\n",
    "tp = 0\n",
    "fp = 0\n",
    "tn = 0\n",
    "fn = 0\n",
    "tn += np.sum(msk)\n",
    "fp += np.sum(~msk)\n",
    "lk0 = np.expand_dims(lk[0], axis=0)\n",
    "lk0 = np.repeat(lk0, n_s, axis=0)\n",
    "lk1 = np.expand_dims(lk[1], axis=0)\n",
    "lk1 = np.repeat(lk1, n_s, axis=0)\n",
    "\n",
    "spam_test_array = spam_test.toarray()\n",
    "ph = np.sum(np.log(lk0) * spam_test_array, axis=1) + np.log(n_h / (n_h + n_s))\n",
    "ps = np.sum(np.log(lk1) * spam_test_array, axis=1) + np.log(n_s / (n_h + n_s))\n",
    "msk = ph > ps\n",
    "fn += np.sum(msk)\n",
    "tp += np.sum(~msk)\n",
    "precision = tp / (tp + fp + 1e-8)\n",
    "recall = tp / (tp + fn + 1e-8)\n",
    "accuracy = (tp + tn) / (tp + tn + fp + fn)\n",
    "print(\"precision: {}\".format(precision))\n",
    "print(\"recall: {}\".format(recall))\n",
    "print(\"accuracy: {}\".format(accuracy))\n",
    "\n",
    "# end answer"
   ]
  },
  {
   "cell_type": "code",
   "execution_count": null,
   "metadata": {},
   "outputs": [],
   "source": []
  }
 ],
 "metadata": {
  "kernelspec": {
   "display_name": "Python 3",
   "language": "python",
   "name": "python3"
  },
  "language_info": {
   "codemirror_mode": {
    "name": "ipython",
    "version": 3
   },
   "file_extension": ".py",
   "mimetype": "text/x-python",
   "name": "python",
   "nbconvert_exporter": "python",
   "pygments_lexer": "ipython3",
   "version": "3.6.4"
  }
 },
 "nbformat": 4,
 "nbformat_minor": 2
}
